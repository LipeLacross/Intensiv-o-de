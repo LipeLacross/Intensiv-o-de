{
 "cells": [
  {
   "cell_type": "code",
   "execution_count": 1,
   "metadata": {},
   "outputs": [
    {
     "name": "stdout",
     "output_type": "stream",
     "text": [
      "Control Identifiers:\n",
      "\n",
      "Dialog - '*Untitled - Notepad'    (L24, T325, R1464, B1043)\n",
      "['*Untitled - Notepad', '*Untitled - NotepadDialog', 'Dialog']\n",
      "child_window(title=\"*Untitled - Notepad\", control_type=\"Window\")\n"
     ]
    },
    {
     "ename": "COMError",
     "evalue": "(-2147220991, 'An event was unable to invoke any of the subscribers', (None, None, None, 0, None))",
     "output_type": "error",
     "traceback": [
      "\u001b[1;31m---------------------------------------------------------------------------\u001b[0m",
      "\u001b[1;31mCOMError\u001b[0m                                  Traceback (most recent call last)",
      "Cell \u001b[1;32mIn[1], line 22\u001b[0m\n\u001b[0;32m     20\u001b[0m substitute \u001b[39m=\u001b[39m app\u001b[39m.\u001b[39mUntitledNotepad\u001b[39m.\u001b[39mchild_window(title\u001b[39m=\u001b[39m\u001b[39m\"\u001b[39m\u001b[39mYes\u001b[39m\u001b[39m\"\u001b[39m, auto_id\u001b[39m=\u001b[39m\u001b[39m\"\u001b[39m\u001b[39mCommandButton_6\u001b[39m\u001b[39m\"\u001b[39m, control_type\u001b[39m=\u001b[39m\u001b[39m\"\u001b[39m\u001b[39mButton\u001b[39m\u001b[39m\"\u001b[39m)\u001b[39m.\u001b[39mwrapper_object()\n\u001b[0;32m     21\u001b[0m substitute\u001b[39m.\u001b[39mclick_input()\n\u001b[1;32m---> 22\u001b[0m app\u001b[39m.\u001b[39;49mUntitledNotepad\u001b[39m.\u001b[39;49mprint_control_identifiers()\n\u001b[0;32m     24\u001b[0m \u001b[39m#saveFile = app.UntitledNotepad.child_window.child_window(title=\"Save\", auto_id=\"1\", control_type=\"Button\").wrapper_object()\u001b[39;00m\n",
      "File \u001b[1;32mc:\\Users\\felip\\AppData\\Local\\Programs\\Python\\Python311\\Lib\\site-packages\\pywinauto\\application.py:689\u001b[0m, in \u001b[0;36mWindowSpecification.print_control_identifiers\u001b[1;34m(self, depth, filename)\u001b[0m\n\u001b[0;32m    687\u001b[0m \u001b[39mif\u001b[39;00m filename \u001b[39mis\u001b[39;00m \u001b[39mNone\u001b[39;00m:\n\u001b[0;32m    688\u001b[0m     \u001b[39mprint\u001b[39m(\u001b[39m\"\u001b[39m\u001b[39mControl Identifiers:\u001b[39m\u001b[39m\"\u001b[39m)\n\u001b[1;32m--> 689\u001b[0m     print_identifiers([this_ctrl, ])\n\u001b[0;32m    690\u001b[0m \u001b[39melse\u001b[39;00m:\n\u001b[0;32m    691\u001b[0m     log_file \u001b[39m=\u001b[39m codecs\u001b[39m.\u001b[39mopen(filename, \u001b[39m\"\u001b[39m\u001b[39mw\u001b[39m\u001b[39m\"\u001b[39m, locale\u001b[39m.\u001b[39mgetpreferredencoding())\n",
      "File \u001b[1;32mc:\\Users\\felip\\AppData\\Local\\Programs\\Python\\Python311\\Lib\\site-packages\\pywinauto\\application.py:685\u001b[0m, in \u001b[0;36mWindowSpecification.print_control_identifiers.<locals>.print_identifiers\u001b[1;34m(ctrls, current_depth, log_func)\u001b[0m\n\u001b[0;32m    682\u001b[0m \u001b[39melse\u001b[39;00m:\n\u001b[0;32m    683\u001b[0m     log_func(output\u001b[39m.\u001b[39mencode(locale\u001b[39m.\u001b[39mgetpreferredencoding(), errors\u001b[39m=\u001b[39m\u001b[39m'\u001b[39m\u001b[39mbackslashreplace\u001b[39m\u001b[39m'\u001b[39m))\n\u001b[1;32m--> 685\u001b[0m print_identifiers(ctrl\u001b[39m.\u001b[39;49mchildren(), current_depth \u001b[39m+\u001b[39;49m \u001b[39m1\u001b[39;49m, log_func)\n",
      "File \u001b[1;32mc:\\Users\\felip\\AppData\\Local\\Programs\\Python\\Python311\\Lib\\site-packages\\pywinauto\\application.py:653\u001b[0m, in \u001b[0;36mWindowSpecification.print_control_identifiers.<locals>.print_identifiers\u001b[1;34m(ctrls, current_depth, log_func)\u001b[0m\n\u001b[0;32m    647\u001b[0m     ctrl_text \u001b[39m=\u001b[39m ctrl_text\u001b[39m.\u001b[39mreplace(\u001b[39m'\u001b[39m\u001b[39m\\n\u001b[39;00m\u001b[39m'\u001b[39m, \u001b[39mr\u001b[39m\u001b[39m'\u001b[39m\u001b[39m\\\u001b[39m\u001b[39mn\u001b[39m\u001b[39m'\u001b[39m)\u001b[39m.\u001b[39mreplace(\u001b[39m'\u001b[39m\u001b[39m\\r\u001b[39;00m\u001b[39m'\u001b[39m, \u001b[39mr\u001b[39m\u001b[39m'\u001b[39m\u001b[39m\\\u001b[39m\u001b[39mr\u001b[39m\u001b[39m'\u001b[39m)\n\u001b[0;32m    649\u001b[0m output \u001b[39m=\u001b[39m indent \u001b[39m+\u001b[39m \u001b[39mu\u001b[39m\u001b[39m'\u001b[39m\u001b[39m\\n\u001b[39;00m\u001b[39m'\u001b[39m\n\u001b[0;32m    650\u001b[0m output \u001b[39m+\u001b[39m\u001b[39m=\u001b[39m indent \u001b[39m+\u001b[39m \u001b[39mu\u001b[39m\u001b[39m\"\u001b[39m\u001b[39m{class_name}\u001b[39;00m\u001b[39m - \u001b[39m\u001b[39m'\u001b[39m\u001b[39m{text}\u001b[39;00m\u001b[39m'\u001b[39m\u001b[39m    \u001b[39m\u001b[39m{rect}\u001b[39;00m\u001b[39m\\n\u001b[39;00m\u001b[39m\"\u001b[39m\\\n\u001b[0;32m    651\u001b[0m     \u001b[39m\"\u001b[39m\u001b[39m\"\u001b[39m\u001b[39m.\u001b[39mformat(class_name\u001b[39m=\u001b[39mctrl\u001b[39m.\u001b[39mfriendly_class_name(),\n\u001b[0;32m    652\u001b[0m               text\u001b[39m=\u001b[39mctrl_text,\n\u001b[1;32m--> 653\u001b[0m               rect\u001b[39m=\u001b[39mctrl\u001b[39m.\u001b[39;49mrectangle())\n\u001b[0;32m    654\u001b[0m output \u001b[39m+\u001b[39m\u001b[39m=\u001b[39m indent \u001b[39m+\u001b[39m \u001b[39mu\u001b[39m\u001b[39m'\u001b[39m\u001b[39m{}\u001b[39;00m\u001b[39m'\u001b[39m\u001b[39m.\u001b[39mformat(ctrl_id_name_map[ctrl_id])\n\u001b[0;32m    656\u001b[0m title \u001b[39m=\u001b[39m ctrl_text\n",
      "File \u001b[1;32mc:\\Users\\felip\\AppData\\Local\\Programs\\Python\\Python311\\Lib\\site-packages\\pywinauto\\base_wrapper.py:367\u001b[0m, in \u001b[0;36mBaseWrapper.rectangle\u001b[1;34m(self)\u001b[0m\n\u001b[0;32m    356\u001b[0m \u001b[39mdef\u001b[39;00m \u001b[39mrectangle\u001b[39m(\u001b[39mself\u001b[39m):\n\u001b[0;32m    357\u001b[0m \u001b[39m    \u001b[39m\u001b[39m\"\"\"\u001b[39;00m\n\u001b[0;32m    358\u001b[0m \u001b[39m    Return the rectangle of element\u001b[39;00m\n\u001b[0;32m    359\u001b[0m \n\u001b[1;32m   (...)\u001b[0m\n\u001b[0;32m    365\u001b[0m \u001b[39m    See win32structures.RECT for more information.\u001b[39;00m\n\u001b[0;32m    366\u001b[0m \u001b[39m    \"\"\"\u001b[39;00m\n\u001b[1;32m--> 367\u001b[0m     \u001b[39mreturn\u001b[39;00m \u001b[39mself\u001b[39;49m\u001b[39m.\u001b[39;49melement_info\u001b[39m.\u001b[39;49mrectangle\n",
      "File \u001b[1;32mc:\\Users\\felip\\AppData\\Local\\Programs\\Python\\Python311\\Lib\\site-packages\\pywinauto\\uia_element_info.py:326\u001b[0m, in \u001b[0;36mUIAElementInfo.rectangle\u001b[1;34m(self)\u001b[0m\n\u001b[0;32m    323\u001b[0m \u001b[39m@property\u001b[39m\n\u001b[0;32m    324\u001b[0m \u001b[39mdef\u001b[39;00m \u001b[39mrectangle\u001b[39m(\u001b[39mself\u001b[39m):\n\u001b[0;32m    325\u001b[0m \u001b[39m    \u001b[39m\u001b[39m\"\"\"Return rectangle of the element\"\"\"\u001b[39;00m\n\u001b[1;32m--> 326\u001b[0m     bound_rect \u001b[39m=\u001b[39m \u001b[39mself\u001b[39;49m\u001b[39m.\u001b[39;49m_element\u001b[39m.\u001b[39;49mCurrentBoundingRectangle\n\u001b[0;32m    327\u001b[0m     rect \u001b[39m=\u001b[39m RECT()\n\u001b[0;32m    328\u001b[0m     rect\u001b[39m.\u001b[39mleft \u001b[39m=\u001b[39m bound_rect\u001b[39m.\u001b[39mleft\n",
      "\u001b[1;31mCOMError\u001b[0m: (-2147220991, 'An event was unable to invoke any of the subscribers', (None, None, None, 0, None))"
     ]
    }
   ],
   "source": [
    "#pip install pywinauto\n",
    "import time\n",
    "from pywinauto.application import Application\n",
    "app = Application(backend=\"uia\").start(\"notepad.exe\").connect(title = \"Untitled - Notepad\", timeout = 10)# timeout -> segundos para continuar o código #uia ou win32 pro backend\n",
    "contentFile = \"Testando automação com outra biblioteca\"\n",
    "app.UntitledNotepad.type_keys(contentFile, with_spaces = True)\n",
    "closeApp = app.UntitledNotepad.child_window(title=\"Close\", control_type=\"Button\").wrapper_object()\n",
    "closeApp.click_input()\n",
    "\n",
    "saveApp = app.UntitledNotepad.child_window(title=\"Save\", auto_id=\"PrimaryButton\", control_type=\"Button\")\n",
    "saveApp.click_input()\n",
    "appName = app.UntitledNotepad.child_window(title=\"File name:\", auto_id=\"1001\", control_type=\"Edit\").wrapper_object()\n",
    "appNome = \"Textin.txt\"#Nome do arquivo\n",
    "appName.type_keys(appNome, with_spaces = True)\n",
    "#Path\n",
    "path = app.UntitledNotepad.child_window(title=\"SearchEditBox\", auto_id=\"SearchEditBox\", control_type=\"Edit\").wrapper_object()\n",
    "caminho = r\"C:\\Users\\felip\\OneDrive\\Documentos\"#Local para salvar\n",
    "path.type_keys(caminho, with_spaces = True)\n",
    "#Substituir\n",
    "substitute = app.UntitledNotepad.child_window(title=\"Yes\", auto_id=\"CommandButton_6\", control_type=\"Button\").wrapper_object()\n",
    "substitute.click_input()\n",
    "app.UntitledNotepad.print_control_identifiers()\n",
    "\n",
    "#saveFile = app.UntitledNotepad.child_window.child_window(title=\"Save\", auto_id=\"1\", control_type=\"Button\").wrapper_object()\n",
    "\n",
    "\n",
    "\n"
   ]
  },
  {
   "cell_type": "code",
   "execution_count": null,
   "metadata": {},
   "outputs": [],
   "source": []
  }
 ],
 "metadata": {
  "kernelspec": {
   "display_name": "Python 3",
   "language": "python",
   "name": "python3"
  },
  "language_info": {
   "codemirror_mode": {
    "name": "ipython",
    "version": 3
   },
   "file_extension": ".py",
   "mimetype": "text/x-python",
   "name": "python",
   "nbconvert_exporter": "python",
   "pygments_lexer": "ipython3",
   "version": "3.11.1"
  },
  "orig_nbformat": 4,
  "vscode": {
   "interpreter": {
    "hash": "8d8e51825077f022c4371dd445d423236f9f6f5824102c127fdacc5c63e63b66"
   }
  }
 },
 "nbformat": 4,
 "nbformat_minor": 2
}
