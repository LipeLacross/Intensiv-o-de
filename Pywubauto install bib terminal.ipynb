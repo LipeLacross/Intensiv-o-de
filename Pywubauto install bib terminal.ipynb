{
 "cells": [
  {
   "cell_type": "code",
   "execution_count": 68,
   "metadata": {},
   "outputs": [
    {
     "name": "stdout",
     "output_type": "stream",
     "text": [
      "Control Identifiers:\n",
      "\n",
      "CASCADIA_HOSTING_WINDOW_CLASS - 'c:\\WINDOWS\\System32\\cmd.exe'    (L87, T96, R1586, B896)\n",
      "['CASCADIA_HOSTING_WINDOW_CLASS', 'c:\\\\WINDOWS\\\\System32\\\\cmd.exeCASCADIA_HOSTING_WINDOW_CLASS', 'c:\\\\WINDOWS\\\\System32\\\\cmd.exe']\n",
      "child_window(title=\"c:\\WINDOWS\\System32\\cmd.exe\", class_name=\"CASCADIA_HOSTING_WINDOW_CLASS\")\n",
      "   | \n",
      "   | DRAG_BAR_WINDOW_CLASS - ''    (L493, T97, R1974, B147)\n",
      "   | ['DRAG_BAR_WINDOW_CLASS']\n",
      "   | child_window(class_name=\"DRAG_BAR_WINDOW_CLASS\")\n",
      "   | \n",
      "   | Windows.UI.Core.CoreWindow - 'DesktopWindowXamlSource'    (L96, T96, R97, B97)\n",
      "   | ['DesktopWindowXamlSourceWindows.UI.Core.CoreWindow', 'DesktopWindowXamlSource', 'Windows.UI.Core.CoreWindow', 'DesktopWindowXamlSource0', 'DesktopWindowXamlSource1']\n",
      "   | child_window(title=\"DesktopWindowXamlSource\", class_name=\"Windows.UI.Core.CoreWindow\")\n",
      "   | \n",
      "   | Windows.UI.Composition.DesktopWindowContentBridge - 'DesktopWindowXamlSource'    (L96, T97, R1577, B887)\n",
      "   | ['DesktopWindowXamlSourceWindows.UI.Composition.DesktopWindowContentBridge', 'DesktopWindowXamlSource2', 'Windows.UI.Composition.DesktopWindowContentBridge']\n",
      "   | child_window(title=\"DesktopWindowXamlSource\", class_name=\"Windows.UI.Composition.DesktopWindowContentBridge\")\n",
      "   |    | \n",
      "   |    | Windows.UI.Input.InputSite.WindowClass - ''    (L96, T97, R96, B97)\n",
      "   |    | ['Windows.UI.Input.InputSite.WindowClass', 'c:\\\\WINDOWS\\\\System32\\\\cmd.exeWindows.UI.Input.InputSite.WindowClass']\n",
      "   |    | child_window(class_name=\"Windows.UI.Input.InputSite.WindowClass\")\n",
      "   | \n",
      "   | Windows.UI.Input.InputSite.WindowClass - ''    (L96, T97, R96, B97)\n",
      "   | ['Windows.UI.Input.InputSite.WindowClass', 'c:\\\\WINDOWS\\\\System32\\\\cmd.exeWindows.UI.Input.InputSite.WindowClass']\n",
      "   | child_window(class_name=\"Windows.UI.Input.InputSite.WindowClass\")\n"
     ]
    }
   ],
   "source": [
    "import time\n",
    "from pywinauto import Application, Desktop\n",
    "app = Application(backend=\"win32\").start(r'c:\\WINDOWS\\System32\\cmd.exe /k', create_new_console=True, wait_for_idle=False)\n",
    "time.sleep(3)\n",
    "calc = Desktop(backend=\"win32\").window(title='c:\\WINDOWS\\System32\\cmd.exe')\n",
    "calc.dump_tree()\n",
    "libraryList = (\n",
    "'pip install PyAutoGUI',\n",
    "'pip install numpy',\n",
    "'pip install pandas',\n",
    "'pip install openpyxl',\n",
    "'pip install MouseInfo',\n",
    "'pip install plotly',\n",
    "'pip install nbformat',\n",
    "'pip install selenium',\n",
    "'pip install cx-Freeze',\n",
    "'pip install matplotlib',\n",
    "'pip install seaborn',\n",
    "'pip install scikit-learn'\n",
    ")\n",
    "\n",
    "time.sleep(1)\n",
    "for i in libraryList:\n",
    "    calc.type_keys(i, with_spaces = True)\n",
    "    calc.type_keys(\"{ENTER}\")\n",
    "    time.sleep(18)\n",
    "#pip install webdriver-manager\n",
    "#pip install pytesseract\n",
    "#pip install Pillow\n"
   ]
  }
 ],
 "metadata": {
  "kernelspec": {
   "display_name": "Python 3",
   "language": "python",
   "name": "python3"
  },
  "language_info": {
   "codemirror_mode": {
    "name": "ipython",
    "version": 3
   },
   "file_extension": ".py",
   "mimetype": "text/x-python",
   "name": "python",
   "nbconvert_exporter": "python",
   "pygments_lexer": "ipython3",
   "version": "3.11.1 (tags/v3.11.1:a7a450f, Dec  6 2022, 19:58:39) [MSC v.1934 64 bit (AMD64)]"
  },
  "orig_nbformat": 4,
  "vscode": {
   "interpreter": {
    "hash": "8d8e51825077f022c4371dd445d423236f9f6f5824102c127fdacc5c63e63b66"
   }
  }
 },
 "nbformat": 4,
 "nbformat_minor": 2
}
