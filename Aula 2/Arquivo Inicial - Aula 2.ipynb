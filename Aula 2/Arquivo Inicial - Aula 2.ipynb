{
 "cells": [
  {
   "cell_type": "markdown",
   "metadata": {},
   "source": [
    "# Análise de Dados com Python\n",
    "\n",
    "### Desafio:\n",
    "\n",
    "Você trabalha em uma empresa de telecom e tem clientes de vários serviços diferentes, entre os principais: internet e telefone.\n",
    "\n",
    "O problema é que, analisando o histórico dos clientes dos últimos anos, você percebeu que a empresa está com Churn de mais de 26% dos clientes.\n",
    "\n",
    "Isso representa uma perda de milhões para a empresa.\n",
    "\n",
    "O que a empresa precisa fazer para resolver isso?\n",
    "\n",
    "Base de Dados: https://drive.google.com/drive/folders/1T7D0BlWkNuy_MDpUHuBG44kT80EmRYIs?usp=sharing <br>\n",
    "Link Original do Kaggle: https://www.kaggle.com/radmirzosimov/telecom-users-dataset"
   ]
  },
  {
   "cell_type": "code",
   "execution_count": null,
   "metadata": {},
   "outputs": [],
   "source": [
    "import pandas as pd\n",
    "# Passo 1: Importaria a base de dados\n",
    "#table = pd.read_csv(r\"H:\\My Drive\\VScode\\Intensivão de Python\\Aula 2\\telecom_users.csv\")\n",
    "table = pd.read_csv(\"telecom_users.csv\") #Não precisa do path caso o arquivo esteja no mesmo local do código, \"sheets = x\" ou \"sheet_name = 0\" vai determinar a aba escolhida\n",
    "# Passo 2: Visualizer a base de dados\n",
    "# axis -> 0 = Linha; axis -> 1 = coluna\n",
    "table = table.drop(\"Unnamed: 0\", axis=1)#drop vai excluir linha ou coluna\n",
    "print(table)\n",
    "# - Entender as informações que você tem disponível\n",
    "# - Descobrir as cagadas da base de dados\n",
    "\n"
   ]
  },
  {
   "cell_type": "code",
   "execution_count": null,
   "metadata": {},
   "outputs": [],
   "source": [
    "import pandas as pd\n",
    "# Passo 3: Tratamento de Dados\n",
    "# Resolver os valores que estão sendo reconhecidos de forma errada\n",
    "table = pd.read_csv(\"telecom_users.csv\")\n",
    "table[\"TotalGasto\"] = pd.to_numeric(table[\"TotalGasto\"], errors = \"coerce\")#ignore -> ignorar erro, raise -> mostrar erro, coerce -> forçar conversão\n",
    "\n",
    "# resolver valores vazios\n",
    "\n",
    "# colunas em que TODOS os valores vazios, eu vou excluir\n",
    "# axis = 0 -> Linha, axis = 1 -> coluna\n",
    "table = table.dropna(how = \"all\", axis = 1)\n",
    "# Linhas que tem PELO MENOS 1 valor vazio (que possuem ALGUM valor vazio)\n",
    "table = table.dropna(how = \"any\", axis = 0)\n",
    "\n",
    "print(table.info())\n",
    "\n",
    "\n",
    "\n"
   ]
  },
  {
   "cell_type": "code",
   "execution_count": null,
   "metadata": {},
   "outputs": [],
   "source": [
    "import pandas as pd\n",
    "# Passo 4: Análise Inicial\n",
    "table = pd.read_csv(\"telecom_users.csv\")\n",
    "#Porcentagens de pessoas que cancelaram e que estão usando contratando o plano\n",
    "print(table[\"Churn\"].value_counts())\n",
    "print(table[\"Churn\"].value_counts(normalize = True).map(\"{:.1%}\".format))"
   ]
  },
  {
   "cell_type": "code",
   "execution_count": null,
   "metadata": {},
   "outputs": [],
   "source": [
    "#pip install plotly\n",
    "#pip install nbformat\n",
    "import pandas as pd\n",
    "import plotly.express as px\n",
    "\n",
    "# Passo 5: Análise detalhada - descobrir as causas do cancelamento\n",
    "table = pd.read_csv(\"telecom_users.csv\")\n",
    "#px.barplot #gráfico de barra\n",
    "#px.pie #gráfico de pizza\n",
    "### para edições nos gráficos: https://plotly.com/python/histograms/\n",
    "\n",
    "# comparar cada coluna da base de dados com a coluna Churn\n",
    "# cria o grafico\n",
    "column1 = \"TipoContrato\"\n",
    "column2 = \"Aposentado\"\n",
    "graphic = px.histogram(table, x = column1, color = \"Churn\", text_auto = True)\n",
    "\n",
    "# exibe o gráfico\n",
    "graphic.show()\n",
    "\n",
    "# para cada coluna da minha tabela, eu quero criar um gráfico\n",
    "for coluna in table.columns:\n",
    "    graphic = px.histogram(table, x=coluna, color=\"Churn\", text_auto=True)\n",
    "    graphic.show()\n",
    "\n",
    "\n",
    "\n",
    "\n",
    "\n"
   ]
  },
  {
   "cell_type": "markdown",
   "metadata": {},
   "source": [
    "### Conclusões e Ações"
   ]
  },
  {
   "attachments": {},
   "cell_type": "markdown",
   "metadata": {},
   "source": [
    "Escreva aqui suas conclusões:\n",
    "- Clientes com contrato mensal tem MUITO mais chance de cancelar:\n",
    "    - Podemos fazer promoções para o cliente ir para o contrato anual\n",
    "    \n",
    "- Familias maiores tendem a cancelar menos do que famílias menores\n",
    "    - Podemos fazer promoções pra pessoa pegar uma linha adicional de telefone\n",
    "    \n",
    "- MesesComoCliente baixos tem MUITO cancelamento. Clientes com pouco tempo como cliente tendem a cancelar muito\n",
    "    - A primeira experiência do cliente na operadora pode ser ruim\n",
    "    - Talvez a captação de clientes tá trazendo clientes desqualificados\n",
    "    - Ideia: a gente pode criar incentivo pro cara ficar mais tempo como cliente\n",
    "    \n",
    "- QUanto mais serviços o cara tem, menos chance dele cancelar\n",
    "    - podemos fazer promoções com mais serviços pro cliente\n",
    "    \n",
    "- Tem alguma coisa no nosso serviço de Fibra que tá fazendo os clientes cancelarem\n",
    "    - Agir sobre a fibra\n",
    "    \n",
    "- Clientes no boleto tem MUITO mais chance de cancelar, então temos que fazer alguma ação para eles irem para as outras formas de pagamento "
   ]
  }
 ],
 "metadata": {
  "kernelspec": {
   "display_name": "Python 3",
   "language": "python",
   "name": "python3"
  },
  "language_info": {
   "codemirror_mode": {
    "name": "ipython",
    "version": 3
   },
   "file_extension": ".py",
   "mimetype": "text/x-python",
   "name": "python",
   "nbconvert_exporter": "python",
   "pygments_lexer": "ipython3",
   "version": "3.11.1"
  },
  "vscode": {
   "interpreter": {
    "hash": "8d8e51825077f022c4371dd445d423236f9f6f5824102c127fdacc5c63e63b66"
   }
  }
 },
 "nbformat": 4,
 "nbformat_minor": 4
}
