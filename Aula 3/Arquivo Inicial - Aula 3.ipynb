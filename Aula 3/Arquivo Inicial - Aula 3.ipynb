{
 "cells": [
  {
   "cell_type": "markdown",
   "metadata": {},
   "source": [
    "# Automação Web e Busca de Informações com Python\n",
    "\n",
    "#### Desafio: \n",
    "\n",
    "Trabalhamos em uma importadora e o preço dos nossos produtos é vinculado a cotação de:\n",
    "- Dólar\n",
    "- Euro\n",
    "- Ouro\n",
    "\n",
    "Precisamos pegar na internet, de forma automática, a cotação desses 3 itens e saber quanto devemos cobrar pelos nossos produtos, considerando uma margem de contribuição que temos na nossa base de dados.\n",
    "\n",
    "Base de Dados: https://drive.google.com/drive/folders/1KmAdo593nD8J9QBaZxPOG1yxHZua4Rtv?usp=sharing\n",
    "\n",
    "Para isso, vamos criar uma automação web:\n",
    "\n",
    "- Usaremos o selenium\n",
    "- Importante: baixar o webdriver"
   ]
  },
  {
   "cell_type": "code",
   "execution_count": null,
   "metadata": {},
   "outputs": [],
   "source": [
    "#instalar o webdriver compatível com o meu navegador\n",
    "#pip install webdriver-manager\n",
    "#from webdriver_manager.edge import EdgeDriverManager\n",
    "# selenium 3\n",
    "from selenium import webdriver\n",
    "from webdriver_manager.microsoft import EdgeChromiumDriverManager\n",
    "\n",
    "driver = webdriver.Edge(EdgeChromiumDriverManager().install())\n",
    "# selenium 4\n",
    "from selenium import webdriver\n",
    "from selenium.webdriver.edge.service import Service as EdgeService\n",
    "from webdriver_manager.microsoft import EdgeChromiumDriverManager\n",
    "\n",
    "driver = webdriver.Edge(service=EdgeService(EdgeChromiumDriverManager().install()))"
   ]
  },
  {
   "cell_type": "code",
   "execution_count": 27,
   "metadata": {},
   "outputs": [
    {
     "ename": "ModuleNotFoundError",
     "evalue": "No module named 'webdriver_manager'",
     "output_type": "error",
     "traceback": [
      "\u001b[1;31m---------------------------------------------------------------------------\u001b[0m",
      "\u001b[1;31mModuleNotFoundError\u001b[0m                       Traceback (most recent call last)",
      "Cell \u001b[1;32mIn[27], line 1\u001b[0m\n\u001b[1;32m----> 1\u001b[0m \u001b[39mfrom\u001b[39;00m \u001b[39mwebdriver_manager\u001b[39;00m\u001b[39m.\u001b[39;00m\u001b[39medge\u001b[39;00m \u001b[39mimport\u001b[39;00m EdgeDriverManager\n\u001b[0;32m      2\u001b[0m \u001b[39mfrom\u001b[39;00m \u001b[39mselenium\u001b[39;00m \u001b[39mimport\u001b[39;00m webdriver \u001b[39m#Em vez de importar a bib inteira, só pegamos o webdriver\u001b[39;00m\n\u001b[0;32m      3\u001b[0m \u001b[39mfrom\u001b[39;00m \u001b[39mselenium\u001b[39;00m\u001b[39m.\u001b[39;00m\u001b[39mwebdriver\u001b[39;00m\u001b[39m.\u001b[39;00m\u001b[39mcommon\u001b[39;00m\u001b[39m.\u001b[39;00m\u001b[39mkeys\u001b[39;00m \u001b[39mimport\u001b[39;00m Keys\n",
      "\u001b[1;31mModuleNotFoundError\u001b[0m: No module named 'webdriver_manager'"
     ]
    }
   ],
   "source": [
    "#pip install selenium\n",
    "from selenium import webdriver #Em vez de importar a bib inteira, só pegamos o webdriver\n",
    "from selenium.webdriver.common.keys import Keys\n",
    "#pip install cx-Freeze #para transformar em um exe.\n",
    "\n",
    "\n",
    "# para rodar o chrome em 2º plano\n",
    "# from selenium.webdriver.chrome.options import Options\n",
    "# chrome_options = Options()\n",
    "# chrome_options.headless = True \n",
    "# navegador = webdriver.Chrome(options=chrome_options)\n",
    "\n",
    "browser = webdriver.Edge()\n",
    "# Passo 1: Pegar a cotação do dólar\n",
    "# entrar no google\n",
    "browser.get(\"https://www.google.com/\")\n",
    "browser.find_element(\"xpath\", \"/html/body/div[1]/div[3]/form/div[1]/div[1]/div[1]/div/div[2]/input\").send_keys(\"cotação dólar\", Keys.ENTER)\n",
    "#browser.find_element(\"xpath\", \"/html/body/div[1]/div[3]/form/div[1]/div[1]/div[4]/center/input[1]\").click()\n",
    "dollarValue = browser.find_element(\"xpath\",'//*[@id=\"knowledge-currency__updatable-data-column\"]/div[1]/div[2]/span[1]').get_attribute(\"data-value\")\n",
    "print(dollarValue)\n",
    "\n",
    "# Passo 2: Pegar a cotação do euro\n",
    "browser.get(\"https://www.google.com/\")\n",
    "browser.find_element(\"xpath\", \"/html/body/div[1]/div[3]/form/div[1]/div[1]/div[1]/div/div[2]/input\").send_keys(\"cotação euro\", Keys.ENTER)\n",
    "euroValue = browser.find_element(\"xpath\",'//*[@id=\"knowledge-currency__updatable-data-column\"]/div[1]/div[2]/span[1]').get_attribute(\"data-value\")\n",
    "print(euroValue)\n",
    "\n",
    "# Passo 3: Pegar a cotação do ouro\n",
    "browser.get(\"https://www.melhorcambio.com/ouro-hoje\")\n",
    "goldValue = browser.find_element(\"xpath\", '//*[@id=\"comercial\"]').get_attribute(\"value\")\n",
    "goldValue =  goldValue.replace(\",\", \".\")\n",
    "print(goldValue)\n",
    "\n",
    "\n",
    "with open(r\"C:\\Users\\felip\\OneDrive\\Documentos\\cotas.txt\", \"w\") as file:\n",
    "    file.write(f\"O preço do dólar é: {dollarValue}\\nO preço do ouro é: {goldValue}\\nO preço do euro é: {euroValue}\")\n",
    "    \n",
    "browser.quit()\n",
    "\n",
    "\n"
   ]
  },
  {
   "cell_type": "markdown",
   "metadata": {},
   "source": [
    "### Agora vamos atualiza a nossa base de preços com as novas cotações"
   ]
  },
  {
   "cell_type": "markdown",
   "metadata": {},
   "source": [
    "- Importando a base de dados"
   ]
  },
  {
   "cell_type": "code",
   "execution_count": 24,
   "metadata": {
    "scrolled": true
   },
   "outputs": [
    {
     "name": "stdout",
     "output_type": "stream",
     "text": [
      "         Produtos  Preço Original  Moeda  Cotação  Preço de Compra  Margem  \\\n",
      "0    Câmera Canon          999.99  Dólar        5          4999.95    1.40   \n",
      "1   Carro Renault         4500.00   Euro        6         27000.00    2.00   \n",
      "2   Notebook Dell          899.99  Dólar        5          4499.95    1.70   \n",
      "3          IPhone          799.00  Dólar        5          3995.00    1.70   \n",
      "4      Carro Fiat         3000.00   Euro        6         18000.00    1.90   \n",
      "5  Celular Xiaomi          480.48  Dólar        5          2402.40    2.00   \n",
      "6        Joia 20g           20.00   Ouro      350          7000.00    1.15   \n",
      "\n",
      "   Preço de Venda  \n",
      "0        6999.930  \n",
      "1       54000.000  \n",
      "2        7649.915  \n",
      "3        6791.500  \n",
      "4       34200.000  \n",
      "5        4804.800  \n",
      "6        8050.000  \n"
     ]
    }
   ],
   "source": [
    "# Passo 4: Importar a base de dados e Atualizar a base\n",
    "import pandas as pd\n",
    "\n",
    "table = pd.read_excel(\"Produtos.xlsx\")\n",
    "print(table)"
   ]
  },
  {
   "cell_type": "markdown",
   "metadata": {},
   "source": [
    "- Atualizando os preços e o cálculo do Preço Final"
   ]
  },
  {
   "cell_type": "code",
   "execution_count": 25,
   "metadata": {},
   "outputs": [
    {
     "name": "stdout",
     "output_type": "stream",
     "text": [
      "         Produtos  Preço Original  Moeda     Cotação  Preço de Compra  Margem  \\\n",
      "0    Câmera Canon          999.99  Dólar    5.087700      5087.649123    1.40   \n",
      "1   Carro Renault         4500.00   Euro    5.516847     24825.813728    2.00   \n",
      "2   Notebook Dell          899.99  Dólar    5.087700      4578.879123    1.70   \n",
      "3          IPhone          799.00  Dólar    5.087700      4065.072300    1.70   \n",
      "4      Carro Fiat         3000.00   Euro    5.516847     16550.542485    1.90   \n",
      "5  Celular Xiaomi          480.48  Dólar    5.087700      2444.538096    2.00   \n",
      "6        Joia 20g           20.00   Ouro  315.120000      6302.400000    1.15   \n",
      "\n",
      "  Preço de Venda  \n",
      "0      R$6999.93  \n",
      "1     R$54000.00  \n",
      "2      R$7649.91  \n",
      "3      R$6791.50  \n",
      "4     R$34200.00  \n",
      "5      R$4804.80  \n",
      "6      R$8050.00  \n"
     ]
    }
   ],
   "source": [
    "import pandas as pd\n",
    "\n",
    "table = pd.read_excel(\"Produtos.xlsx\")\n",
    "# Passo 5: Recalcular os preços\n",
    "# atualizar cotação\n",
    "# cotação dólar\n",
    "table.loc[table[\"Moeda\"] == \"Dólar\", \"Cotação\"] = float(dollarValue)\n",
    "table.loc[table[\"Moeda\"] == \"Euro\", \"Cotação\"] = float(euroValue)\n",
    "table.loc[table[\"Moeda\"] == \"Ouro\", \"Cotação\"] = float(goldValue)\n",
    "# preço de compra = cotação * preço original\n",
    "table[\"Preço de Compra\"] = table[\"Cotação\"] * table[\"Preço Original\"]\n",
    "\n",
    "# preço de venda = preço de compra * margem\n",
    "#table[\"Preço de Venda\"] = table[\"Preço de Compra\"] * table[\"Margem\"]\n",
    "# formatado\n",
    "table[\"Preço de Venda\"] = table[\"Preço de Venda\"].map(\"R${:.2f}\".format)\n",
    "print(table)\n"
   ]
  },
  {
   "cell_type": "markdown",
   "metadata": {},
   "source": [
    "### Agora vamos exportar a nova base de preços atualizada"
   ]
  },
  {
   "cell_type": "code",
   "execution_count": 26,
   "metadata": {},
   "outputs": [],
   "source": [
    "# Passo 6: Exportar a base atualizada\n",
    "table.to_excel(\"ProdutosNew.xlsx\", index = False)\n"
   ]
  }
 ],
 "metadata": {
  "kernelspec": {
   "display_name": "Python 3",
   "language": "python",
   "name": "python3"
  },
  "language_info": {
   "codemirror_mode": {
    "name": "ipython",
    "version": 3
   },
   "file_extension": ".py",
   "mimetype": "text/x-python",
   "name": "python",
   "nbconvert_exporter": "python",
   "pygments_lexer": "ipython3",
   "version": "3.11.1"
  },
  "vscode": {
   "interpreter": {
    "hash": "8d8e51825077f022c4371dd445d423236f9f6f5824102c127fdacc5c63e63b66"
   }
  }
 },
 "nbformat": 4,
 "nbformat_minor": 4
}
