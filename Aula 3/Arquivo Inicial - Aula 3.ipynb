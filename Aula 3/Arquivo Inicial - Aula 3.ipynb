{
 "cells": [
  {
   "cell_type": "markdown",
   "metadata": {},
   "source": [
    "# Automação Web e Busca de Informações com Python\n",
    "\n",
    "#### Desafio: \n",
    "\n",
    "Trabalhamos em uma importadora e o preço dos nossos produtos é vinculado a cotação de:\n",
    "- Dólar\n",
    "- Euro\n",
    "- Ouro\n",
    "\n",
    "Precisamos pegar na internet, de forma automática, a cotação desses 3 itens e saber quanto devemos cobrar pelos nossos produtos, considerando uma margem de contribuição que temos na nossa base de dados.\n",
    "\n",
    "Base de Dados: https://drive.google.com/drive/folders/1KmAdo593nD8J9QBaZxPOG1yxHZua4Rtv?usp=sharing\n",
    "\n",
    "Para isso, vamos criar uma automação web:\n",
    "\n",
    "- Usaremos o selenium\n",
    "- Importante: baixar o webdriver"
   ]
  },
  {
   "cell_type": "code",
   "execution_count": null,
   "metadata": {},
   "outputs": [],
   "source": [
    "#instalar o webdriver compatível com o meu navegador\n",
    "#pip install webdriver-manager\n",
    "#from webdriver_manager.edge import EdgeDriverManager\n",
    "# selenium 3\n",
    "from selenium import webdriver\n",
    "from webdriver_manager.microsoft import EdgeChromiumDriverManager\n",
    "\n",
    "driver = webdriver.Edge(EdgeChromiumDriverManager().install())\n",
    "# selenium 4\n",
    "from selenium import webdriver\n",
    "from selenium.webdriver.edge.service import Service as EdgeService\n",
    "from webdriver_manager.microsoft import EdgeChromiumDriverManager\n",
    "\n",
    "driver = webdriver.Edge(service=EdgeService(EdgeChromiumDriverManager().install()))"
   ]
  },
  {
   "cell_type": "code",
   "execution_count": null,
   "metadata": {},
   "outputs": [],
   "source": [
    "#pip install selenium\n",
    "from selenium import webdriver #Em vez de importar a bib inteira, só pegamos o webdriver\n",
    "from selenium.webdriver.common.keys import Keys\n",
    "#pip install cx-Freeze #para transformar em um exe.\n",
    "\n",
    "\n",
    "# para rodar o chrome em 2º plano\n",
    "# from selenium.webdriver.chrome.options import Options\n",
    "# chrome_options = Options()\n",
    "# chrome_options.headless = True \n",
    "# navegador = webdriver.Chrome(options=chrome_options)\n",
    "\n",
    "browser = webdriver.Edge()\n",
    "# Passo 1: Pegar a cotação do dólar\n",
    "# entrar no google\n",
    "browser.get(\"https://www.google.com/\")\n",
    "browser.find_element(\"xpath\", \"/html/body/div[1]/div[3]/form/div[1]/div[1]/div[1]/div/div[2]/input\").send_keys(\"cotação dólar\", Keys.ENTER)\n",
    "#browser.find_element(\"xpath\", \"/html/body/div[1]/div[3]/form/div[1]/div[1]/div[4]/center/input[1]\").click()\n",
    "dollarValue = browser.find_element(\"xpath\",'//*[@id=\"knowledge-currency__updatable-data-column\"]/div[1]/div[2]/span[1]').get_attribute(\"data-value\")\n",
    "print(dollarValue)\n",
    "\n",
    "# Passo 2: Pegar a cotação do euro\n",
    "browser.get(\"https://www.google.com/\")\n",
    "browser.find_element(\"xpath\", \"/html/body/div[1]/div[3]/form/div[1]/div[1]/div[1]/div/div[2]/input\").send_keys(\"cotação euro\", Keys.ENTER)\n",
    "euroValue = browser.find_element(\"xpath\",'//*[@id=\"knowledge-currency__updatable-data-column\"]/div[1]/div[2]/span[1]').get_attribute(\"data-value\")\n",
    "print(euroValue)\n",
    "\n",
    "# Passo 3: Pegar a cotação do ouro\n",
    "browser.get(\"https://www.melhorcambio.com/ouro-hoje\")\n",
    "goldValue = browser.find_element(\"xpath\", '//*[@id=\"comercial\"]').get_attribute(\"value\")\n",
    "goldValue =  goldValue.replace(\",\", \".\")\n",
    "print(goldValue)\n",
    "\n",
    "\n",
    "with open(r\"C:\\Users\\felip\\OneDrive\\Documentos\\cotas.txt\", \"w\") as file:\n",
    "    file.write(f\"O preço do dólar é: {dollarValue}\\nO preço do ouro é: {goldValue}\\nO preço do euro é: {euroValue}\")\n",
    "    \n",
    "browser.quit()\n",
    "\n",
    "\n"
   ]
  },
  {
   "cell_type": "markdown",
   "metadata": {},
   "source": [
    "### Agora vamos atualiza a nossa base de preços com as novas cotações"
   ]
  },
  {
   "cell_type": "markdown",
   "metadata": {},
   "source": [
    "- Importando a base de dados"
   ]
  },
  {
   "cell_type": "code",
   "execution_count": null,
   "metadata": {
    "scrolled": true
   },
   "outputs": [],
   "source": [
    "# Passo 4: Importar a base de dados e Atualizar a base\n",
    "import pandas as pd\n",
    "\n",
    "table = pd.read_excel(\"Produtos.xlsx\")\n",
    "print(table)"
   ]
  },
  {
   "cell_type": "markdown",
   "metadata": {},
   "source": [
    "- Atualizando os preços e o cálculo do Preço Final"
   ]
  },
  {
   "cell_type": "code",
   "execution_count": null,
   "metadata": {},
   "outputs": [],
   "source": [
    "import pandas as pd\n",
    "\n",
    "table = pd.read_excel(\"Produtos.xlsx\")\n",
    "# Passo 5: Recalcular os preços\n",
    "# atualizar cotação\n",
    "# cotação dólar\n",
    "table.loc[table[\"Moeda\"] == \"Dólar\", \"Cotação\"] = float(dollarValue)\n",
    "table.loc[table[\"Moeda\"] == \"Euro\", \"Cotação\"] = float(euroValue)\n",
    "table.loc[table[\"Moeda\"] == \"Ouro\", \"Cotação\"] = float(goldValue)\n",
    "# preço de compra = cotação * preço original\n",
    "table[\"Preço de Compra\"] = table[\"Cotação\"] * table[\"Preço Original\"]\n",
    "\n",
    "# preço de venda = preço de compra * margem\n",
    "#table[\"Preço de Venda\"] = table[\"Preço de Compra\"] * table[\"Margem\"]\n",
    "# formatado\n",
    "table[\"Preço de Venda\"] = table[\"Preço de Venda\"].map(\"R${:.2f}\".format)#vai formatar os valores.\n",
    "print(table)\n"
   ]
  },
  {
   "cell_type": "markdown",
   "metadata": {},
   "source": [
    "### Agora vamos exportar a nova base de preços atualizada"
   ]
  },
  {
   "cell_type": "code",
   "execution_count": null,
   "metadata": {},
   "outputs": [],
   "source": [
    "# Passo 6: Exportar a base atualizada\n",
    "table.to_excel(\"ProdutosNew.xlsx\", index = False)# index false vai tirar index\n"
   ]
  }
 ],
 "metadata": {
  "kernelspec": {
   "display_name": "Python 3",
   "language": "python",
   "name": "python3"
  },
  "language_info": {
   "codemirror_mode": {
    "name": "ipython",
    "version": 3
   },
   "file_extension": ".py",
   "mimetype": "text/x-python",
   "name": "python",
   "nbconvert_exporter": "python",
   "pygments_lexer": "ipython3",
   "version": "3.11.1 (tags/v3.11.1:a7a450f, Dec  6 2022, 19:58:39) [MSC v.1934 64 bit (AMD64)]"
  },
  "vscode": {
   "interpreter": {
    "hash": "8d8e51825077f022c4371dd445d423236f9f6f5824102c127fdacc5c63e63b66"
   }
  }
 },
 "nbformat": 4,
 "nbformat_minor": 4
}
