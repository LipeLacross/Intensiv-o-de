{
 "cells": [
  {
   "cell_type": "markdown",
   "metadata": {},
   "source": [
    "# Automação de Sistemas e Processos com Python\n",
    "\n",
    "### Desafio:\n",
    "\n",
    "Todos os dias, o nosso sistema atualiza as vendas do dia anterior.\n",
    "O seu trabalho diário, como analista, é enviar um e-mail para a diretoria, assim que começar a trabalhar, com o faturamento e a quantidade de produtos vendidos no dia anterior\n",
    "\n",
    "E-mail da diretoria: seugmail+diretoria@gmail.com<br>\n",
    "Local onde o sistema disponibiliza as vendas do dia anterior: https://drive.google.com/drive/folders/149xknr9JvrlEnhNWO49zPcw0PW5icxga?usp=sharing\n",
    "\n",
    "Para resolver isso, vamos usar o pyautogui, uma biblioteca de automação de comandos do mouse e do teclado"
   ]
  },
  {
   "cell_type": "code",
   "execution_count": 6,
   "metadata": {},
   "outputs": [],
   "source": [
    "#mouseinfo\n",
    "import pyautogui\n",
    "import pyperclip\n",
    "import time\n",
    "pyautogui.press(\"win\")\n",
    "pyautogui.write(\"terminal\")\n",
    "pyautogui.press(\"enter\")\n",
    "time.sleep(2)\n",
    "pyperclip.copy(\"python -m mouseinfo\")\n",
    "pyautogui.hotkey(\"ctrl\", \"v\")\n",
    "pyautogui.press(\"enter\")\n"
   ]
  },
  {
   "cell_type": "code",
   "execution_count": 14,
   "metadata": {},
   "outputs": [],
   "source": [
    "#pip install PyAutoGUI\n",
    "#pip install numpy\n",
    "#pip install pandas\n",
    "#pip install openpyxl\n",
    "#pip install MouseInfo  \n",
    "import pyautogui\n",
    "import pyperclip\n",
    "import time\n",
    "# pyautogui.click -> clicar\n",
    "# pyautogui.write -> escrever\n",
    "# pyautogui.press -> pressionar\n",
    "# pyautogui.hotkey -> atalho\n",
    "pyautogui.PAUSE = 1\n",
    "\n",
    "# Passo 1: Entrar no sistema da empresa (no Link do drive)\n",
    "#pyautogui.press(\"win\")\n",
    "#pyautogui.write(\"edge\")\n",
    "#pyautogui.press(\"enter\")\n",
    "pyautogui.click(x = 939, y = 1056)\n",
    "pyautogui.hotkey(\"ctrl\", \"t\")\n",
    "pyperclip.copy(\"https://drive.google.com/drive/folders/149xknr9JvrlEnhNWO49zPcw0PW5icxga?\")\n",
    "time.sleep(1)\n",
    "pyautogui.hotkey(\"ctrl\", \"v\")\n",
    "pyautogui.press(\"enter\")\n",
    "time.sleep(4)\n",
    "\n",
    "# Passo 2: Navegar até o local do relatório (entrar na pasta Exportar)\n",
    "pyautogui.click(x=528, y=366, clicks = 2)\n",
    "time.sleep(2)\n",
    "# Passo 3: Exportar o relatório (fazer 0 download)\n",
    "pyautogui.click(x=486, y=397, button = \"left\")\n",
    "pyautogui.click(x=1735, y=209, button = \"left\")\n",
    "pyautogui.click(x=1399, y=654, button = \"left\")\n",
    "time.sleep(5)\n",
    "\n",
    "\n",
    "pyautogui.FAILSAFE = True"
   ]
  },
  {
   "cell_type": "markdown",
   "metadata": {},
   "source": []
  },
  {
   "cell_type": "markdown",
   "metadata": {},
   "source": []
  },
  {
   "cell_type": "markdown",
   "metadata": {},
   "source": [
    "### Vamos agora ler o arquivo baixado para pegar os indicadores\n",
    "\n",
    "- Faturamento\n",
    "- Quantidade de Produtos"
   ]
  },
  {
   "cell_type": "code",
   "execution_count": 15,
   "metadata": {},
   "outputs": [
    {
     "name": "stdout",
     "output_type": "stream",
     "text": [
      "      Código Venda       Data                     ID Loja           Produto  \\\n",
      "0            65014 2019-12-01            Shopping Morumbi    Sunga Listrado   \n",
      "1            65014 2019-12-01            Shopping Morumbi   Casaco Listrado   \n",
      "2            65016 2019-12-01           Iguatemi Campinas   Sapato Listrado   \n",
      "3            65016 2019-12-01           Iguatemi Campinas            Casaco   \n",
      "4            65017 2019-12-01          Shopping SP Market        Gorro Liso   \n",
      "...            ...        ...                         ...               ...   \n",
      "7084         69996 2019-12-26  Center Shopping Uberlândia    Short Listrado   \n",
      "7085         69996 2019-12-26  Center Shopping Uberlândia           Mochila   \n",
      "7086         69996 2019-12-26  Center Shopping Uberlândia  Pulseira Estampa   \n",
      "7087         69997 2019-12-26           Ribeirão Shopping   Camisa Listrado   \n",
      "7088         69997 2019-12-26           Ribeirão Shopping       Short Linho   \n",
      "\n",
      "      Quantidade  Valor Unitário  Valor Final  \n",
      "0              5             114          570  \n",
      "1              1             269          269  \n",
      "2              2             363          726  \n",
      "3              1             250          250  \n",
      "4              3              92          276  \n",
      "...          ...             ...          ...  \n",
      "7084           2             102          204  \n",
      "7085           4             270         1080  \n",
      "7086           1              87           87  \n",
      "7087           1             108          108  \n",
      "7088           2             133          266  \n",
      "\n",
      "[7089 rows x 7 columns]\n",
      "2917311\n",
      "15227\n"
     ]
    }
   ],
   "source": [
    "# Passo 4: Calcular os indicadores (faturamento e quantidade de produtos)\n",
    "import pandas as pd \n",
    "pyautogui.FAILSAFE = True\n",
    "\n",
    "tabela = pd.read_excel(r\"C:\\Users\\felip\\Downloads\\Vendas - Dez.xlsx\")# o r vai servir para encontrar o path corretamente\n",
    "print(tabela)\n",
    "\n",
    "faturamento = tabela[\"Valor Final\"].sum()\n",
    "quantidade = tabela[\"Quantidade\"].sum()\n",
    "print(faturamento)\n",
    "print(quantidade) \n"
   ]
  },
  {
   "cell_type": "markdown",
   "metadata": {},
   "source": [
    "### Vamos agora enviar um e-mail pelo gmail"
   ]
  },
  {
   "cell_type": "code",
   "execution_count": 16,
   "metadata": {},
   "outputs": [],
   "source": [
    "# Passo 5: Enviar um e-mail para a diretoria\n",
    "import pyautogui\n",
    "import pyperclip\n",
    "import time\n",
    "pyautogui.FAILSAFE = True\n",
    "# abrir aba e entrar no email\n",
    "#pyautogui.click(x = 939, y = 1056)\n",
    "pyautogui.hotkey(\"ctrl\", \"t\") # abre a aba\n",
    "pyperclip.copy(\"https://mail.google.com/mail/u/@/#inbox\")\n",
    "pyautogui.hotkey(\"ctrl\", \"v\")\n",
    "pyautogui .press(\"enter\")\n",
    "time.sleep(2) \n",
    "# clicar no botão escrever\n",
    "pyautogui.click(x = 158, y = 204)\n",
    "time.sleep(2)\n",
    "# preencher as informações do e-mail\n",
    "pyperclip.copy(\"yugos82@gmail.com\")\n",
    "pyautogui.hotkey(\"ctrl\", \"v\")\n",
    "# assunto\n",
    "pyautogui.press(\"tab\")\n",
    "pyperclip.copy(\"Automatizando com python\")\n",
    "pyautogui.hotkey(\"ctrl\", \"v\")   \n",
    "# corpo\n",
    "pyautogui.press(\"tab\")\n",
    "text = f\"\"\"\n",
    "Prezados, bom dia.\n",
    "\n",
    "O faturamento de ontem de foi de: R${faturamento:.2f}\n",
    "A quantidade de produtos foi de: {quantidade:.2f}\"\"\"\n",
    "\n",
    "pyperclip.copy(f\"\"\" \n",
    "{text}\n",
    "Esses foram os resultados de hoje.\n",
    "\n",
    "Ass. Lacross\"\"\")\n",
    "pyautogui.hotkey(\"ctrl\", \"v\")\n",
    "\n",
    "# enviar o e-mail\n",
    "pyautogui.click(x = 1189, y = 988)"
   ]
  },
  {
   "cell_type": "markdown",
   "metadata": {},
   "source": []
  },
  {
   "cell_type": "code",
   "execution_count": 17,
   "metadata": {},
   "outputs": [],
   "source": [
    "#Criar txt com lucro\n",
    "import pandas as pd \n",
    "import pyautogui\n",
    "import pyperclip\n",
    "import time\n",
    "pyautogui.FAILSAFE = True\n",
    "\n",
    "tabela = pd.read_excel(r\"C:\\Users\\felip\\Downloads\\Vendas - Dez.xlsx\")# o r vai servir para encontrar o path corretamente\n",
    "#print(tabela.info())\n",
    "tabela.index\n",
    "#print(tabela.loc[1:, [\"Código Venda\", \"Produto\", \"Valor Unitário\", \"Valor Final\"]])\n",
    "with open(r\"C:\\Users\\felip\\OneDrive\\Documentos\\lucro.txt\", \"w\") as file:\n",
    "    for i in range(0, len(tabela.index), 1):\n",
    "        saleCode = tabela.loc[i, \"Código Venda\"]\n",
    "        product = tabela.loc[i, \"Produto\"]\n",
    "        initialValue = tabela.loc[i, \"Valor Unitário\"]\n",
    "        finalValue = tabela.loc[i, \"Valor Final\"]\n",
    "        profit = finalValue - initialValue\n",
    "        file.write(f\"{saleCode}, Produto -> {product}, lucro -> {profit}\\n\")\n",
    "\n",
    "pyautogui.press(\"win\")\n",
    "pyautogui.write(\"lucro\")\n",
    "pyautogui.write(\".txt\")\n",
    "time.sleep(2)\n",
    "pyautogui.press(\"enter\")\n",
    "pyautogui.click(x=1102, y=1063)\n"
   ]
  },
  {
   "cell_type": "code",
   "execution_count": 18,
   "metadata": {},
   "outputs": [
    {
     "name": "stdout",
     "output_type": "stream",
     "text": [
      "7089\n",
      "      Código Venda           Produto  Valor Unitário  Valor Final\n",
      "1            65014   Casaco Listrado             269          269\n",
      "2            65016   Sapato Listrado             363          726\n",
      "3            65016            Casaco             250          250\n",
      "4            65017        Gorro Liso              92          276\n",
      "5            65018     Cueca Estampa              66           66\n",
      "...            ...               ...             ...          ...\n",
      "7084         69996    Short Listrado             102          204\n",
      "7085         69996           Mochila             270         1080\n",
      "7086         69996  Pulseira Estampa              87           87\n",
      "7087         69997   Camisa Listrado             108          108\n",
      "7088         69997       Short Linho             133          266\n",
      "\n",
      "[7088 rows x 4 columns]\n",
      "Código Venda    65014\n",
      "Name: 1, dtype: object\n",
      "65014\n"
     ]
    }
   ],
   "source": [
    "#teste\n",
    "import pandas as pd \n",
    "import pyautogui\n",
    "import pyperclip\n",
    "import time\n",
    "pyautogui.FAILSAFE = True\n",
    "\n",
    "profit = finalValue - initialValue\n",
    "\n",
    "tabela = pd.read_excel(r\"C:\\Users\\felip\\Downloads\\Vendas - Dez.xlsx\")\n",
    "print(len(tabela.index))\n",
    "print(tabela.loc[1:, [\"Código Venda\", \"Produto\", \"Valor Unitário\", \"Valor Final\"]])\n",
    "print(tabela.loc[1, [\"Código Venda\"]])#Vai dar informações extras\n",
    "print(tabela.loc[1, \"Código Venda\"])#Só vai dar o valor\n",
    "\n"
   ]
  },
  {
   "attachments": {},
   "cell_type": "markdown",
   "metadata": {},
   "source": [
    "### Enviando arquivo por email"
   ]
  },
  {
   "cell_type": "code",
   "execution_count": 19,
   "metadata": {},
   "outputs": [],
   "source": [
    "import pyautogui\n",
    "import pyperclip\n",
    "import time\n",
    "pyautogui.FAILSAFE = True\n",
    "\n",
    "#pyautogui.click(x = 939, y = 1056)\n",
    "#pyautogui.hotkey(\"ctrl\", \"t\") # abre a aba\n",
    "#pyperclip.copy(\"https://mail.google.com/mail/u/@/#inbox\")\n",
    "#pyautogui.hotkey(\"ctrl\", \"v\")\n",
    "#pyautogui.press(\"enter\")\n",
    "#time.sleep(2) \n",
    "pyautogui.click(x = 158, y = 204)\n",
    "time.sleep(1)\n",
    "# preencher as informações do e-mail\n",
    "pyperclip.copy(\"yugos82@gmail.com\")\n",
    "pyautogui.hotkey(\"ctrl\", \"v\")\n",
    "# assunto\n",
    "pyautogui.press(\"tab\")\n",
    "pyperclip.copy(\"Automatizando com python\")\n",
    "pyautogui.hotkey(\"ctrl\", \"v\")   \n",
    "# corpo\n",
    "pyautogui.press(\"tab\")\n",
    "text = f\"\"\"\n",
    "Prezado, bom dia.\n",
    "\n",
    "Segue o lucro total de cada produto.\n",
    "\n",
    "Ass. Lacross\"\"\"\n",
    "\n",
    "pyperclip.copy(text)\n",
    "pyautogui.hotkey(\"ctrl\", \"v\")\n",
    "pyautogui.click(x = 1338, y = 981)\n",
    "pyperclip.copy(r\"C:\\Users\\felip\\OneDrive\\Documentos\\lucro.txt\")\n",
    "pyautogui.hotkey(\"ctrl\", \"v\")\n",
    "pyautogui.hotkey(\"enter\")\n",
    "pyautogui.click(x = 1189, y = 988)\n"
   ]
  },
  {
   "cell_type": "markdown",
   "metadata": {},
   "source": [
    "#### Use esse código para descobrir qual a posição de um item que queira clicar\n",
    "\n",
    "- Lembre-se: a posição na sua tela é diferente da posição na minha tela"
   ]
  },
  {
   "cell_type": "code",
   "execution_count": 20,
   "metadata": {},
   "outputs": [
    {
     "name": "stdout",
     "output_type": "stream",
     "text": [
      "Point(x=1189, y=988)\n"
     ]
    }
   ],
   "source": [
    "import pyautogui\n",
    "import time \n",
    "time.sleep(3)\n",
    "print(pyautogui.position())"
   ]
  }
 ],
 "metadata": {
  "kernelspec": {
   "display_name": "Python 3",
   "language": "python",
   "name": "python3"
  },
  "language_info": {
   "codemirror_mode": {
    "name": "ipython",
    "version": 3
   },
   "file_extension": ".py",
   "mimetype": "text/x-python",
   "name": "python",
   "nbconvert_exporter": "python",
   "pygments_lexer": "ipython3",
   "version": "3.11.1 (tags/v3.11.1:a7a450f, Dec  6 2022, 19:58:39) [MSC v.1934 64 bit (AMD64)]"
  },
  "vscode": {
   "interpreter": {
    "hash": "8d8e51825077f022c4371dd445d423236f9f6f5824102c127fdacc5c63e63b66"
   }
  }
 },
 "nbformat": 4,
 "nbformat_minor": 4
}
